{
 "cells": [
  {
   "cell_type": "code",
   "execution_count": null,
   "metadata": {
    "vscode": {
     "languageId": "plaintext"
    }
   },
   "outputs": [],
   "source": [
    "import scanpy as sc\n",
    "adata = sc.read(\"data/processed/GSE65938.h5ad\")\n",
    "print(adata.var_names)  # List genes"
   ]
  },
  {
   "cell_type": "code",
   "execution_count": null,
   "metadata": {
    "vscode": {
     "languageId": "plaintext"
    }
   },
   "outputs": [],
   "source": [
    "sc.pl.highest_expr_genes(adata, n_top=20)  # Top expressed genes\n",
    "sc.tl.pca(adata)\n",
    "sc.pl.pca(adata, color=\"time_point\")  # PCA by embryonic day"
   ]
  },
  {
   "cell_type": "code",
   "execution_count": null,
   "metadata": {
    "vscode": {
     "languageId": "plaintext"
    }
   },
   "outputs": [],
   "source": [
    "adata.write(\"data/processed/GSE65938_processed.h5ad\")"
   ]
  }
 ],
 "metadata": {
  "language_info": {
   "name": "python"
  }
 },
 "nbformat": 4,
 "nbformat_minor": 2
}
